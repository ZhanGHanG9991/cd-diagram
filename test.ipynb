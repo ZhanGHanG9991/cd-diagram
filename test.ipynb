{
 "cells": [
  {
   "cell_type": "code",
   "execution_count": 1,
   "id": "03695fb4",
   "metadata": {},
   "outputs": [
    {
     "name": "stderr",
     "output_type": "stream",
     "text": [
      "/home/zh/.local/lib/python3.6/site-packages/scipy/stats/morestats.py:2957: UserWarning: Exact p-value calculation does not work if there are ties. Switching to normal approximation.\n",
      "  warnings.warn(\"Exact p-value calculation does not work if there are \"\n",
      "findfont: Font family ['sans-serif'] not found. Falling back to DejaVu Sans.\n",
      "findfont: Font family ['sans-serif'] not found. Falling back to DejaVu Sans.\n",
      "findfont: Font family ['sans-serif'] not found. Falling back to DejaVu Sans.\n"
     ]
    },
    {
     "name": "stdout",
     "output_type": "stream",
     "text": [
      "['clf3' 'clf5' 'clf1' 'clf4' 'clf2']\n",
      "clf1    1.0\n",
      "clf2    0.0\n",
      "clf3    7.0\n",
      "clf4    0.0\n",
      "clf5    4.0\n",
      "dtype: float64\n",
      "clf1    4.200000\n",
      "clf2    3.766667\n",
      "clf4    3.500000\n",
      "clf5    2.000000\n",
      "clf3    1.533333\n",
      "dtype: float64\n",
      "('clf1', 'clf3', 0.0001220703125, True)\n",
      "('clf2', 'clf5', 0.0001220703125, True)\n",
      "('clf2', 'clf3', 0.0007229186187432429, True)\n",
      "('clf3', 'clf4', 0.0008685535665822177, True)\n",
      "('clf1', 'clf5', 0.00115966796875, True)\n",
      "('clf4', 'clf5', 0.002854354799586081, True)\n",
      "('clf1', 'clf4', 0.01806640625, False)\n",
      "('clf1', 'clf2', 0.072998046875, False)\n",
      "('clf2', 'clf4', 0.22930908203125, False)\n",
      "('clf3', 'clf5', 0.36076268578167103, False)\n",
      "Index(['clf1', 'clf2', 'clf4', 'clf5', 'clf3'], dtype='object')\n",
      "[0, 1, 2]\n",
      "[3, 4]\n"
     ]
    }
   ],
   "source": [
    "%run main.py"
   ]
  },
  {
   "cell_type": "code",
   "execution_count": null,
   "id": "e3b6434b",
   "metadata": {},
   "outputs": [],
   "source": []
  }
 ],
 "metadata": {
  "kernelspec": {
   "display_name": "Python 3",
   "language": "python",
   "name": "python3"
  },
  "language_info": {
   "codemirror_mode": {
    "name": "ipython",
    "version": 3
   },
   "file_extension": ".py",
   "mimetype": "text/x-python",
   "name": "python",
   "nbconvert_exporter": "python",
   "pygments_lexer": "ipython3",
   "version": "3.6.9"
  }
 },
 "nbformat": 4,
 "nbformat_minor": 5
}
